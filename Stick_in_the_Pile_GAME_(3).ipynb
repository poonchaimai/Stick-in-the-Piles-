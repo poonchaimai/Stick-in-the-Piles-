{
  "cells": [
    {
      "cell_type": "code",
      "execution_count": 9,
      "metadata": {
        "colab": {
          "base_uri": "https://localhost:8080/"
        },
        "id": "0nDy8P9wesmY",
        "outputId": "b7ef3302-a1a5-4b22-b178-863ccd6820dc"
      },
      "outputs": [
        {
          "name": "stdout",
          "output_type": "stream",
          "text": [
            "How many sticks (N) in the pile:  3\n",
            "There are  3  sticks in the pile\n",
            "What is your name : Poon\n",
            "Poon, how many sticks you will take (1 or 2) : 2\n",
            "There are 1 sticks in the pile \n",
            "Poon, how many sticks you will take (1 or 2) : 3\n",
            "No you cannot take more than 2 sticks!\n",
            "Poon, how many sticks you will take (1 or 2) : 2\n",
            "There are no enough sticks to take.\n",
            "Poon, how many sticks you will take (1 or 2) : -1\n",
            "No you cannot take more less than 1 stick!\n",
            "Poon, how many sticks you will take (1 or 2) : 0\n",
            "No you cannot take more less than 1 stick!\n",
            "Poon, how many sticks you will take (1 or 2) : 1\n",
            "OK. There is no stick left in the pile  .You spent  2 times.\n"
          ]
        }
      ],
      "source": [
        "import random\n",
        "n = int(input(\"How many sticks (N) in the pile:  \"))\n",
        "print(\"There are \",n,\" sticks in the pile\")\n",
        "name = input(\"What is your name : \")\n",
        "count =0 \n",
        "\n",
        "while  n > 0 :\n",
        "    yip = input(name +\", how many sticks you will take (1 or 2) : \")\n",
        "    take= int(yip)\n",
        "    if take <= 0 :\n",
        "        print(\"No you cannot take more less than 1 stick!\")\n",
        "    elif take > 2 :\n",
        "        print(\"No you cannot take more than 2 sticks!\")\n",
        "    elif take > n :\n",
        "        print(\"There are no enough sticks to take.\")\n",
        "    else :      \n",
        "      n = n-take\n",
        "      count = count +1               \n",
        "      if n == 0:\n",
        "        print(name,\", take the last stick\\n\")\n",
        "        print (\"Computer  Win!! (I, smart computer, it's too easy @_@)\")\n",
        "        break\n",
        "     if  n > 0 and n !=  1:\n",
        "        print(\"There are\",n,\"sticks in the pile \\n \")\n",
        "      if n == 1 :\n",
        "        print(\"There is\",n,\"stick in the pile \\n \")\n",
        "      com = random.randint(1,2)\n",
        "      if com > n :\n",
        "        com =1\n",
        "      n = n - com\n",
        "      print(\"I, smart computer takes:\",com)\n",
        "      if n > 0 and n !=  1:\n",
        "        print(\"There are\",n,\"sticks in the pile \\n \")\n",
        "      if n == 1 :\n",
        "         print(\"There is\",n,\"stick in the pile \\n \")\n",
        "      if n == 0:\n",
        "        print(\"I, smart computer, take the last stick\\n\")\n",
        "        print(name,\"  Win!! (I, smart computer, am sad T_T)\")\n",
        "        break       \n",
        "       \n",
        "\n",
        "      \n",
        "\n",
        "\n",
        "\n"
      ]
    },
    {
      "cell_type": "markdown",
      "metadata": {
        "id": "S5TjRjv8y9MK"
      },
      "source": []
    }
  ],
  "metadata": {
    "colab": {
      "collapsed_sections": [],
      "name": "Stick_in_the_Pile_GAME_(2).ipynb",
      "provenance": []
    },
    "kernelspec": {
      "display_name": "Python 3",
      "name": "python3"
    },
    "language_info": {
      "name": "python"
    }
  },
  "nbformat": 4,
  "nbformat_minor": 0
}
